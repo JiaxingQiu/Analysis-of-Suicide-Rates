{
 "cells": [
  {
   "cell_type": "markdown",
   "metadata": {},
   "source": [
    "# <font color = Red>Global Suicide Rate Analysis</font>\n",
    "\n",
    "<img src = \"files/suicide+mgn1.jpg\">"
   ]
  },
  {
   "cell_type": "markdown",
   "metadata": {},
   "source": [
    "## Project Team:\n",
    "1. Siddharth Suresh\n",
    "2. Ying Xiong\n",
    "3. Jiaxing Qiu\n",
    "4. Luyuanyuan Yan\n",
    "\n",
    "<img src = \"files/UVA.png\">\n",
    "Each of us are a part of the Data Science Institute at the University of Virginia"
   ]
  },
  {
   "cell_type": "markdown",
   "metadata": {},
   "source": [
    "## Data Reading and cleaning/pre-processing\n",
    "The dataset was sourced from Kaggle (https://www.kaggle.com/russellyates88/suicide-rates-overview-1985-to-2016)\n",
    "\n",
    "We start off by importing all the libraries needed and reading in the original dataset."
   ]
  },
  {
   "cell_type": "code",
   "execution_count": null,
   "metadata": {},
   "outputs": [],
   "source": [
    "# import the library needed\n",
    "import numpy as np\n",
    "import pandas as pd\n",
    "import matplotlib.pyplot as plt\n",
    "import seaborn as sns\n",
    "import plotly.express as px\n",
    "import plotly.offline as py\n",
    "import requests \n",
    "from bs4 import BeautifulSoup as soup\n",
    "sns.set(font_scale=1.2)\n",
    "\n",
    "# Reading in the original data set and analyzing the features\n",
    "df1 = pd.read_csv('master.csv') # Suicide rates data set\n",
    "df1.head()"
   ]
  },
  {
   "cell_type": "markdown",
   "metadata": {},
   "source": [
    "After reading the dataset, a good starting point would be to check the number of rows & columns."
   ]
  },
  {
   "cell_type": "code",
   "execution_count": null,
   "metadata": {},
   "outputs": [],
   "source": [
    "df1.shape"
   ]
  },
  {
   "cell_type": "markdown",
   "metadata": {},
   "source": [
    "We see that the original dataset has 12 columns and 27,820 rows. Next, we check the NaN values in each column of the dataset"
   ]
  },
  {
   "cell_type": "code",
   "execution_count": null,
   "metadata": {},
   "outputs": [],
   "source": [
    "df1.isna().sum()"
   ]
  },
  {
   "cell_type": "markdown",
   "metadata": {},
   "source": [
    "We notice that HDI values for **19,456** out of **27,820** (~70%) rows are NaN. However, we do believe that HDI of a country does influence the suicide rates, so we decided to supplement the original dataset with HDI data from an external source (http://hdr.undp.org/en/data)"
   ]
  },
  {
   "cell_type": "markdown",
   "metadata": {},
   "source": [
    "Going through the other columns, it is safe to assume that certain columns won't help in analyzing the suicide rates, such as:\n",
    "1. <font color = Red>generation</font> (we believe that trends in suicides based on age groups will have a better interpretation than the generation) \n",
    "2. <font color = Red>country-year</font> (it's more like a tag for this dataset, but since we would like to use the groupby function to look at individual factors affecting suicides, this would become irrelevant)\n",
    "3. <font color = Red>HDI for year</font> (since 70% of the rows are NaN)"
   ]
  },
  {
   "cell_type": "markdown",
   "metadata": {},
   "source": [
    "We load the HDI dataset into a new dataframe and look at a snapshot of the same."
   ]
  },
  {
   "cell_type": "code",
   "execution_count": null,
   "metadata": {},
   "outputs": [],
   "source": [
    "df2 = pd.read_excel('HDI data(1990-2017).xlsx') # HDI data set\n",
    "df2.head()"
   ]
  },
  {
   "cell_type": "markdown",
   "metadata": {},
   "source": [
    "We check the number of columns, rows and NaN values for this dataset as well"
   ]
  },
  {
   "cell_type": "code",
   "execution_count": null,
   "metadata": {},
   "outputs": [],
   "source": [
    "df2.shape"
   ]
  },
  {
   "cell_type": "markdown",
   "metadata": {},
   "source": [
    "The HDI dataset has 189 rows (each representing a unique country) and 30 columns (out of which 28 represent a year, the other two being the 'Country' and 'HDI Rank (2017)')"
   ]
  },
  {
   "cell_type": "code",
   "execution_count": null,
   "metadata": {},
   "outputs": [],
   "source": [
    "df2.isna().sum()"
   ]
  },
  {
   "cell_type": "markdown",
   "metadata": {},
   "source": [
    "It was observed that there are plenty NaN values for the years 1990 to 1999. The analysis with respect to HDI values of these countries will therefore not be present in this project.  \n",
    "\n",
    "We shall be combining these two dataframes so as to map the HDI values to the original dataset later. First, we need to make sure that the country names are consistent across the two dataframes. This requires further cleaning up of the dataframes."
   ]
  },
  {
   "cell_type": "code",
   "execution_count": null,
   "metadata": {},
   "outputs": [],
   "source": [
    "df1 = df1.rename(columns = {' gdp_for_year ($) ': 'total_gdp'}) # renaming columns for easier reference\n",
    "\n",
    "# renaming the country names of the dataset based on the country names of the GeoJSON file (downloaded for advanced visualizations) and maintaining uniformity\n",
    "df1 = df1.replace(['Bahamas', 'Republic of Korea', 'Russian Federation',\n",
    "       'Saint Vincent and Grenadines', 'United States', 'Cabo Verde', 'Macau', 'Serbia'], ['The Bahamas', 'South Korea', 'Russia',\n",
    "       'Saint Vincent and the Grenadines', 'United States of America', 'Cape Verde', 'Macao S.A.R', 'Republic of Serbia'])\n",
    "df2 = df2.replace(['Bahamas', 'Brunei Darussalam', 'Cabo Verde', 'Congo',\n",
    "       'Congo (Democratic Republic of the)', \"Côte d'Ivoire\", 'Eswatini',\n",
    "       'Guinea-Bissau', 'Hong Kong, China (SAR)',\n",
    "       'Iran (Islamic Republic of)', 'Republic of Korea',\n",
    "       \"Lao People's Democratic Republic\", 'Micronesia',\n",
    "       'Palestine, State of', 'Russian Federation',\n",
    "       'Saint Vincent and Grenadines', 'Serbia', 'Syrian Arab Republic',\n",
    "       'Tanzania (United Republic of)',\n",
    "       'The former Yugoslav Republic of Macedonia', 'Timor-Leste',\n",
    "       'United States', 'Venezuela (Bolivarian Republic of)', 'Viet Nam'], ['The Bahamas', 'Brunei', 'Cape Verde', 'Republic of Congo',\n",
    "       'Democratic Republic of the Congo', \"Ivory Coast\", 'Swaziland',\n",
    "       'Guinea Bissau', 'Hong Kong S.A.R.',\n",
    "       'Iran', 'South Korea',\n",
    "       \"Laos\", 'Federated States of Micronesia',\n",
    "       'Palestine', 'Russia',\n",
    "       'Saint Vincent and the Grenadines', 'Republic of Serbia', 'Syria',\n",
    "       'United Republic of Tanzania',\n",
    "       'Macedonia', 'East Timor',\n",
    "       'United States of America', 'Venezuela', 'Vietnam'])"
   ]
  },
  {
   "cell_type": "markdown",
   "metadata": {},
   "source": [
    "Once both dataframes are in line with each other and consistent in terms of naming conventions, we can go ahead and start the process of stitching both datasets together.\n",
    "\n",
    "However, another important step here is to transform the HDI dataset from a 'wide' format to a 'long' format. This will help in merging the two datasets based on the 'Country' & 'Year'.\n",
    "\n",
    "So, it becomes important to transform the different columns in the HDI dataset (representing different 'Years') into one single column that has each year against each of the unique countries in the dataset. "
   ]
  },
  {
   "cell_type": "code",
   "execution_count": null,
   "metadata": {},
   "outputs": [],
   "source": [
    "df2 = df2.iloc[:,1:] # Dropping the HDI rank column from the data set\n",
    "df2.head()"
   ]
  },
  {
   "cell_type": "code",
   "execution_count": null,
   "metadata": {},
   "outputs": [],
   "source": [
    "df2 = pd.melt(df2, id_vars = ['Country'], var_name = 'Years', value_name = 'HDI values') \n",
    "# transforming the data set into 3 columns\n",
    "df2.head()"
   ]
  },
  {
   "cell_type": "code",
   "execution_count": null,
   "metadata": {},
   "outputs": [],
   "source": [
    "df2 = df2.rename(columns = {'Country':'country', 'Years':'year', 'HDI values':'HDI'})\n",
    "# column uniformity before merging HDI data into the original data set\n",
    "df2['year'] = df2['year'].astype(int)\n",
    "# changing the year column from str to int"
   ]
  },
  {
   "cell_type": "markdown",
   "metadata": {},
   "source": [
    "After the cleaning up and pre-processing, both these dataframes were merged"
   ]
  },
  {
   "cell_type": "code",
   "execution_count": null,
   "metadata": {},
   "outputs": [],
   "source": [
    "df3 = pd.merge(df1, df2, on = ['country', 'year'], how = 'left')\n",
    "# merging the two datasets based on 'country' and 'year' on the original dataframe\n",
    "df3.tail()"
   ]
  },
  {
   "cell_type": "code",
   "execution_count": null,
   "metadata": {},
   "outputs": [],
   "source": [
    "df3['total_gdp'] = df3['total_gdp'].astype(int) # changing the total_gdp column to 'int'"
   ]
  },
  {
   "cell_type": "markdown",
   "metadata": {},
   "source": [
    "Next we prepared a dataframe that will exclusively be used for the interactive visualization. In order to do that, we dropped all the irrelevant columns for the scope of this project, as enlisted above. Then, other columns except 'country', 'year', 'suicides_no' and 'population' were removed and the 'suicides/100k pop' and 'gdp_per_capita' was calculated based on this data."
   ]
  },
  {
   "cell_type": "code",
   "execution_count": null,
   "metadata": {},
   "outputs": [],
   "source": [
    "# Dropping all columns except 'country', 'year', 'suicides_no' and 'population'\n",
    "df_map = df3.drop(['age', 'sex', 'suicides/100k pop', 'HDI', 'generation', 'HDI for year', 'gdp_per_capita ($)', 'country-year'], axis = 1)\n",
    "\n",
    "# using groupby for the number of suicides and population for a given country in a particular year\n",
    "df_map = df_map.groupby(['country', 'year', 'total_gdp']).sum().reset_index()\n",
    "\n",
    "# computing the suicide rate and gdp per capita for a given country in a particular year\n",
    "df_map['suicides_rate'] = ((df_map.suicides_no / df_map.population)*(10**5)).round(4)\n",
    "df_map['gdp_per_capita'] = (df_map.total_gdp/df_map.population).round(2)\n",
    "\n",
    "# sorting based on year\n",
    "df_map.sort_values(by = 'year', axis=0, inplace = True)\n",
    "\n",
    "# Saving the dataframe into a separate csv file\n",
    "df_map.to_csv(\"suicides_rate_map.csv\")\n",
    "\n",
    "df_map.head() # snapshot of the dataframe"
   ]
  },
  {
   "cell_type": "markdown",
   "metadata": {},
   "source": [
    "## Suicides Rate Overall Trend"
   ]
  },
  {
   "cell_type": "markdown",
   "metadata": {},
   "source": [
    "### Overall Trend Plot"
   ]
  },
  {
   "cell_type": "code",
   "execution_count": null,
   "metadata": {},
   "outputs": [],
   "source": [
    "#create a mapping for the different age groups into numerical numbers\n",
    "age_mapping = {'5-14 years': 1, '15-24 years':2, '25-34 years':3, '35-54 years':4, '55-74 years':5, '75+ years':6}\n",
    "\n",
    "df4 = df3\n",
    "#rename the column names\n",
    "df4 = df4.rename(columns={'suicides/100k pop': 'suicide_per_100k'})\n",
    "#df4 = df3.rename(columns={'gdp_for_year ($)': 'gdp_for_year'})\n",
    "df4 = df4.rename(columns={'gdp_per_capita ($)': 'gdp_per_capita'})\n",
    "df4['age_group'] = df3.age.map(age_mapping)\n",
    "df4"
   ]
  },
  {
   "cell_type": "code",
   "execution_count": null,
   "metadata": {},
   "outputs": [],
   "source": [
    "# plot the overall suicide ratio over all years\n",
    "#group by countries to get ready to calculate suicide rate\n",
    "suicideYear=df4.groupby('year').sum()[['suicides_no','population']].reset_index() \n",
    "#recalculate the ratio after grouping by year\n",
    "suicideYear['suicides_per_100k'] = suicideYear.suicides_no/suicideYear.population*100000 \n",
    "\n",
    "\n",
    "# Plotting the overall trend for suicide ratio\n",
    "plt.figure(figsize=(13,6))\n",
    "sns.lineplot('year', 'suicides_per_100k', data=suicideYear, marker = 'o')\n",
    "plt.title(\"Worldwide Suicide Ratio Over Years\")\n",
    "plt.xlabel(\"Year\")\n",
    "plt.ylabel(\"Suicides Per 100k Population\")\n",
    "#add a average line of suicide rate into the plot\n",
    "plt.hlines(suicideYear.suicides_per_100k.mean(), suicideYear.year.min(), suicideYear.year.max() ,colors = 'red', linestyles = 'dashed')"
   ]
  },
  {
   "cell_type": "code",
   "execution_count": null,
   "metadata": {},
   "outputs": [],
   "source": [
    "# plot the overall suicide number over all years\n",
    "\n",
    "suicideYear=df4.groupby('year').sum()[['suicides_no','population']].reset_index() \n",
    "\n",
    "# Plotting the overall trend for suicide number\n",
    "plt.figure(figsize=(13,6))\n",
    "sns.lineplot('year', 'suicides_no', data=suicideYear, marker = 'o')\n",
    "plt.title(\"Total Suicide Number Over Years\")\n",
    "plt.xlabel(\"Year\")\n",
    "plt.ylabel(\"Suicides Number\")\n",
    "#plt.hlines(suicideYear.suicides_per_100k.mean(), suicideYear.year.min(), suicideYear.year.max() ,colors = 'red', linestyles = 'dashed')"
   ]
  },
  {
   "cell_type": "markdown",
   "metadata": {},
   "source": [
    "### Investigate the big gap from 1988 to 1989"
   ]
  },
  {
   "cell_type": "code",
   "execution_count": null,
   "metadata": {},
   "outputs": [],
   "source": [
    "#Build a data frame of suicide rate for each country each year\n",
    "#calculte suicide rate for each country each year\n",
    "topcty = df4.groupby(['country','year'])[['suicides_no', 'population']].sum().reset_index() \n",
    "topcty['suicides_per_100k']= topcty.suicides_no/topcty.population*100000 \n",
    "topcty.head()"
   ]
  },
  {
   "cell_type": "code",
   "execution_count": null,
   "metadata": {},
   "outputs": [],
   "source": [
    "# Top countries contributing to big gap from 1988 to 1989\n",
    "#create a dataframe delta89 recording suicide rate for each country each year\n",
    "\n",
    "tmp = topcty[['country', 'year', 'suicides_per_100k']].copy() # a copy of topcty\n",
    "tmp = tmp.pivot(index = 'country', columns = 'year', values =  'suicides_per_100k') #reform the dataframe for easy access\n",
    "gap = tmp[1989] - tmp[1988] #calculate the suicide rate difference of 1988 and 1989 for each country\n",
    "gap.sort_values(ascending=False).head() #find the countries with biggest jump\n",
    "\n",
    "#Guyana and Malta are the two countries with highest gap from 1988 to 1989"
   ]
  },
  {
   "cell_type": "code",
   "execution_count": null,
   "metadata": {},
   "outputs": [],
   "source": [
    "# Plot overall suicide trend for countries have larger jump in 1988 & 1989\n",
    "fig = plt.figure(figsize=(15,6))\n",
    "ax1 = fig.add_subplot(1,2,1)\n",
    "ax1.set_title('Overall trend for Guyana')\n",
    "ax2 = fig.add_subplot(1,2,2)\n",
    "ax2.set_title('Overall trend for Malta')\n",
    "# Filter Guyana's suicide rate and plot it versus year\n",
    "topcty[topcty['country']=='Guyana']\n",
    "sns.lineplot('year', 'suicides_per_100k', data=topcty[topcty['country']=='Guyana'], marker = 'o',ax=ax1)\n",
    "topcty[topcty['country']=='Malta']\n",
    "sns.lineplot('year', 'suicides_per_100k', data=topcty[topcty['country']=='Malta'], marker = 'o', ax=ax2)\n"
   ]
  },
  {
   "cell_type": "markdown",
   "metadata": {},
   "source": [
    "### Data missing - Reason causing the big gap in 1989\n",
    "#### Check how many countries being recorded each year"
   ]
  },
  {
   "cell_type": "code",
   "execution_count": null,
   "metadata": {},
   "outputs": [],
   "source": [
    "# Taking total number of countries each year into account \n",
    "countryByYear = topcty.groupby('year')['country'].nunique() #count how many countries being recorded each year in this data set\n",
    "\n",
    "fig = plt.figure(figsize=(15,6)) #create a figure, set figure size\n",
    "ax1 = fig.add_subplot(1, 1, 1) #create a axis\n",
    "countryByYear.plot.bar(ax=ax1) #Bar plot for number of countries per year\n",
    "ax1.set_title('Total Number of Countries Each Year')\n",
    "ax1.set_xlabel('Year')\n",
    "ax1.set_ylabel('Number of Countries')\n"
   ]
  },
  {
   "cell_type": "markdown",
   "metadata": {},
   "source": [
    "### Top 10 countries with highest suicide rates"
   ]
  },
  {
   "cell_type": "code",
   "execution_count": null,
   "metadata": {
    "scrolled": true
   },
   "outputs": [],
   "source": [
    "# check the top 10 countries with highest suicide rates\n",
    "\n",
    "topcountries = df4.groupby('country')[['suicides_no', 'population']].sum().reset_index()\n",
    "topcountries['suicides_per_100k']= topcountries.suicides_no/topcountries.population*100000\n",
    "top10=topcountries.sort_values(by= 'suicides_per_100k',ascending = False)[:10]\n",
    "top10"
   ]
  },
  {
   "cell_type": "code",
   "execution_count": null,
   "metadata": {},
   "outputs": [],
   "source": [
    "plt.figure(figsize=(15,8))\n",
    "sns.barplot(x=top10.country,y=top10.suicides_per_100k)\n",
    "plt.title(\"Top 10 Countries With Highest Suicide Ratios\")\n",
    "plt.xlabel(\"Countries\")\n",
    "plt.ylabel(\"Suicides Per 100k Population\")"
   ]
  },
  {
   "cell_type": "markdown",
   "metadata": {},
   "source": [
    "### Trend of suicide rate for top 5 countries"
   ]
  },
  {
   "cell_type": "code",
   "execution_count": null,
   "metadata": {},
   "outputs": [],
   "source": [
    "topcountry = topcty[topcty['country'].isin(top10.country.tolist()[0:5])] #Filter the data of the top 5 countries"
   ]
  },
  {
   "cell_type": "code",
   "execution_count": null,
   "metadata": {},
   "outputs": [],
   "source": [
    "plt.figure(figsize=(18,8))\n",
    "sns.lineplot(x='year',y='suicides_per_100k',hue=topcountry.country,data=topcountry)\n",
    "plt.title(\"Suicides Ratio For Top 5 Suicide Countries\")\n",
    "plt.ylabel(\"Suicides Per 100k Population\")\n",
    "plt.xticks(rotation=45)\n",
    "sns.set(font_scale=1)\n",
    "\n",
    "#From the plot, Russia contributes most for the big gap from 1990 to 1995"
   ]
  },
  {
   "cell_type": "markdown",
   "metadata": {},
   "source": [
    "### Russia contributes most for the big gap from 1990 to 1995"
   ]
  },
  {
   "cell_type": "code",
   "execution_count": null,
   "metadata": {},
   "outputs": [],
   "source": [
    "# Check overall suicide rate without Russia\n",
    "withoutR = topcty[topcty['country']!='Russia'] #exclude Russia in the data set\n",
    "withoutR = withoutR.groupby('year').sum()[['suicides_no','population']].reset_index() #recalulate suicide rates\n",
    "withoutR['suicides_per_100k'] = withoutR.suicides_no/withoutR.population*100000\n",
    "suicideYear['suicides_per_100k'] = suicideYear.suicides_no/suicideYear.population*100000\n",
    "\n",
    "fig = plt.figure(figsize=(15,6))\n",
    "ax1 = fig.add_subplot(1, 1, 1)\n",
    "# plots for all countries\n",
    "sns.lineplot('year', 'suicides_per_100k', data=suicideYear, ax=ax1, label=\"All Countries\", marker='o')\n",
    "# plot for all except Russia\n",
    "sns.lineplot('year', 'suicides_per_100k', data=withoutR, ax=ax1, label=\"Without Russia\", marker='o')\n",
    "\n",
    "# adding title and legend etc.\n",
    "plt.title('Overall Trend of Suicide Ratio - With/Without Russia',fontdict={'weight':'normal','size': 16})\n",
    "plt.xlabel(\"Year\")\n",
    "plt.ylabel(\"Suicides Per 100k Population\")\n",
    "ax1.legend(loc='best', shadow=True)"
   ]
  },
  {
   "cell_type": "markdown",
   "metadata": {},
   "source": [
    "### Investigate suicide rates for different age groups"
   ]
  },
  {
   "cell_type": "code",
   "execution_count": null,
   "metadata": {},
   "outputs": [],
   "source": [
    "#recalculate the overall suicide rate for different age groups\n",
    "suicideByAge = df4.groupby(['year', 'age_group'])[['suicides_no', 'population']].sum().reset_index()\n",
    "suicideByAge['suicides_per_100k']= suicideByAge.suicides_no/suicideByAge.population*100000\n",
    "suicideByAge.groupby(['age_group']).sum()"
   ]
  },
  {
   "cell_type": "code",
   "execution_count": null,
   "metadata": {},
   "outputs": [],
   "source": [
    "plt.figure(figsize=(13,6))#Suicide ratio based on age groups\n",
    "\n",
    "#create labels for different age groups\n",
    "en = {1:'5-14 years',\n",
    "      2:'15-24 years',\n",
    "      3:'25-34 years',\n",
    "      4:'35-54 years',\n",
    "      5:'55-74 years',\n",
    "      6:'75+ years'}\n",
    "\n",
    "\n",
    "plt.figure(figsize=(13,6))\n",
    "color=[\"#9b59b6\", \"#3498db\", \"#95a5a6\", \"#e74c3c\", \"#2ecc71\",\"#34495e\"]\n",
    "\n",
    "#create bar plot for overall suicide rate for different age group\n",
    "sns.barplot(x=suicideByAge.age_group.map(en.get), y=suicideByAge['suicides_per_100k'],palette=color)\n",
    "plt.title(\"Suicide Ratio based in Age group\")\n",
    "plt.xlabel(\"Age Group\")\n",
    "plt.ylabel(\"Suicides Per 100k Population\")"
   ]
  },
  {
   "cell_type": "code",
   "execution_count": null,
   "metadata": {},
   "outputs": [],
   "source": [
    "# analysis for age group: 75+\n",
    "\n",
    "elderly = df4[df4.age_group == 6].groupby(['year', 'country']).sum()[['suicides_no', 'population']].reset_index()\n",
    "elderly['suicides_per_100k'] = elderly.suicides_no/elderly.population*100000\n",
    "\n",
    "fig = plt.figure(figsize=(15,6))\n",
    "ax1 = fig.add_subplot(1, 1, 1)\n",
    "# suicide rate for people in the age group 75+\n",
    "sns.lineplot('year', 'suicides_per_100k', data=elderly, ax=ax1, marker='o')\n",
    "\n",
    "# adding title and label etc.\n",
    "ax1.set_title('Overall Trend of Suicide Ratio - People of age 75+')\n",
    "ax1.set_xlabel(\"Year\")\n",
    "ax1.set_ylabel(\"Suicides Per 100k Population\")"
   ]
  },
  {
   "cell_type": "code",
   "execution_count": null,
   "metadata": {},
   "outputs": [],
   "source": [
    "elderly = elderly.groupby(['country']).sum()[['suicides_no', 'population']].reset_index()\n",
    "elderly['suicides_per_100k'] = elderly.suicides_no/elderly.population*100000\n",
    "top5_elderly = elderly.sort_values(by='suicides_per_100k', ascending=False)[:5]\n",
    "plt.figure(figsize=(12,6))\n",
    "sns.barplot(x=top5_elderly.country,y=top5_elderly.suicides_per_100k)\n",
    "plt.title(\"Top 5 Countries in terms of the suicide rates for 75+\")\n",
    "plt.xlabel(\"Countries\")\n",
    "plt.ylabel(\"Suicides Per 100k Population\")"
   ]
  },
  {
   "cell_type": "code",
   "execution_count": null,
   "metadata": {},
   "outputs": [],
   "source": [
    "top5_elderly"
   ]
  },
  {
   "cell_type": "code",
   "execution_count": null,
   "metadata": {},
   "outputs": [],
   "source": [
    "#Total suicide number based on age groups\n",
    "totalAge = df4.groupby(['age_group']).sum()['suicides_no'].reset_index()\n",
    "plt.figure(figsize=(12,6))\n",
    "color=[\"#9b59b6\", \"#3498db\", \"#95a5a6\", \"#e74c3c\", \"#2ecc71\",\"#34495e\"]\n",
    "\n",
    "sns.barplot(x=totalAge.age_group.sort_values().map(en.get),y=totalAge.suicides_no, palette=color)\n",
    "plt.title(\"Total Suicide based in Age group\")\n",
    "plt.xlabel(\"Age Group\")\n",
    "plt.ylabel(\"Number of Suicide\")"
   ]
  },
  {
   "cell_type": "markdown",
   "metadata": {},
   "source": [
    "### Suicide rate based on different age groups"
   ]
  },
  {
   "cell_type": "code",
   "execution_count": null,
   "metadata": {},
   "outputs": [],
   "source": [
    "#Suicide Based on Year And Age\n",
    "color=[\"#9b59b6\", \"#3498db\", \"#95a5a6\", \"#e74c3c\", \"#2ecc71\",\"#34495e\"]\n",
    "plt.figure(figsize=(15,8))\n",
    "sns.swarmplot(x='year',y='suicides_per_100k',hue=suicideByAge.age_group.map(en.get),data=suicideByAge,palette=color)\n",
    "plt.title(\"Suicides Ratio Based On The Age Group\")\n",
    "plt.xticks(rotation=45)\n",
    "plt.ylabel(\"Suicides Per 100k Population\")"
   ]
  },
  {
   "cell_type": "markdown",
   "metadata": {},
   "source": [
    "### Suicide rate of different age group in different gender"
   ]
  },
  {
   "cell_type": "code",
   "execution_count": null,
   "metadata": {},
   "outputs": [],
   "source": [
    "#Compare the suicide ratio fin Male and Female based on different age groups \n",
    "\n",
    "suicideByAgeGender = df4.groupby(['age_group','sex'])[['suicides_no', 'population']].sum().reset_index()\n",
    "\n",
    "suicideByAgeGender['suicides_per_100k']= suicideByAgeGender.suicides_no/suicideByAgeGender.population*100000\n",
    "suicideM_age = suicideByAgeGender[suicideByAgeGender.sex == 'male'].suicides_per_100k\n",
    "suicideF_age = suicideByAgeGender[suicideByAgeGender.sex == 'female'].suicides_per_100k\n",
    "index = np.arange(len(suicideF_age))\n",
    "width = 0.3\n",
    "\n",
    "plt.figure(figsize=(13,6))\n",
    "plt.bar(index, height=suicideM_age, width=width, color= \"#3498db\", label='Male')\n",
    "plt.bar(index+width, height=suicideF_age, width=width, color=\"#9b59b6\", label='Female') #　width=index+width\n",
    "plt.xlabel('Age Groups')\n",
    "plt.ylabel('Suicide Ratio')\n",
    "plt.title('Suicide Ratio in Male and Female')\n",
    "plt.xticks(index + width / 2, ('5-14 years', '15-24 years', '25-34 years', '35-54 years', '55-74 years', '75+ years'))\n",
    "plt.legend(loc='best')\n",
    "plt.show()\n"
   ]
  },
  {
   "cell_type": "markdown",
   "metadata": {},
   "source": [
    "### Relationship between suicide ratio, HDI for different countries"
   ]
  },
  {
   "cell_type": "code",
   "execution_count": null,
   "metadata": {},
   "outputs": [],
   "source": [
    "suicideDrop =df4.drop(columns=['HDI for year']).dropna(axis=0,how='any') #Drop previous HDI column because of too many NAs\n",
    "#create a dataframe with HDI \n",
    "suicideHdi = suicideDrop.groupby(['year','country'])[['suicides_no', 'population']].sum().reset_index()\n",
    "suicideHdi['suicides_per_100k']= suicideHdi.suicides_no/suicideHdi.population*100000 # calculte suicide rate for every country every year\n",
    "hdi = suicideDrop.groupby(['year','country'])[['HDI']].mean().reset_index() # create HDI column for each country each year\n",
    "suicideHdi['HDI']=hdi.HDI # add HDI column to the dataframe\n",
    "suicideHdi.head()"
   ]
  },
  {
   "cell_type": "code",
   "execution_count": null,
   "metadata": {},
   "outputs": [],
   "source": [
    "# Check HDI versus suicide rate for the top 10 suicide countries\n",
    "suicideHdiForTop=suicideHdi[suicideHdi['country'].isin(top10.country)]\n",
    "fig = plt.figure(figsize=(16,11))\n",
    "for i in range(len(top10.country)-4):\n",
    "    ax1=fig.add_subplot(2,3,i+1)\n",
    "    df1=suicideHdiForTop[suicideHdiForTop['country']==top10.country.tolist()[i]]\n",
    "    sns.scatterplot(x=df1.HDI.round(2) ,y=df1.suicides_per_100k, ax=ax1)\n",
    "    ax1.set_title(top10.country.iloc[i])\n",
    "    ax1.set_xlabel('HDI')\n",
    "    ax1.set_ylabel('Suicide per 100k')\n",
    "    "
   ]
  },
  {
   "cell_type": "code",
   "execution_count": null,
   "metadata": {},
   "outputs": [],
   "source": [
    "bottom10 = topcountries.sort_values(by= 'suicides_per_100k')[:10]\n",
    "plt.figure(figsize=(15,6))\n",
    "sns.barplot(x=bottom10.country, y=bottom10.suicides_per_100k)\n",
    "plt.title(\"Bottom 10 Countries With Lowest Suicide Ratios\")\n",
    "plt.xlabel(\"Countries\")\n",
    "plt.ylabel(\"Suicides Per 100k Population\")"
   ]
  },
  {
   "cell_type": "markdown",
   "metadata": {},
   "source": [
    "# Gender Suicide Ratio Analysis"
   ]
  },
  {
   "cell_type": "code",
   "execution_count": null,
   "metadata": {},
   "outputs": [],
   "source": [
    "df_gender = df4[['country','year','sex','age','suicides_no','population','suicide_per_100k', 'HDI']]\n",
    "df_gender.insert(3,'age_group',0)\n",
    "df_gender.loc[df_gender['age']=='5-14 years','age'] = '05-14 years'\n",
    "df_gender.loc[df_gender['age']=='5-14 years','age_group'] = 1\n",
    "df_gender.loc[df_gender['age']=='15-24 years','age_group'] = 2\n",
    "df_gender.loc[df_gender['age']=='25-34 years','age_group'] = 3\n",
    "df_gender.loc[df_gender['age']=='35-54 years','age_group'] = 4\n",
    "df_gender.loc[df_gender['age']=='55-74 years','age_group'] = 5\n",
    "df_gender.loc[df_gender['age']=='75+ years','age_group'] = 6"
   ]
  },
  {
   "cell_type": "code",
   "execution_count": null,
   "metadata": {
    "scrolled": false
   },
   "outputs": [],
   "source": [
    "plt.rc('figure', figsize = (10,5))"
   ]
  },
  {
   "cell_type": "markdown",
   "metadata": {},
   "source": [
    "### worldwide suicide ratio over 30 years per gender"
   ]
  },
  {
   "cell_type": "code",
   "execution_count": null,
   "metadata": {},
   "outputs": [],
   "source": [
    "temp = df_gender.groupby('sex')[['suicides_no','population']].sum().reset_index()\n",
    "temp = temp.assign(suicide_ratio=temp['suicides_no']/(temp['population']/100000))\n",
    "ratio_all = pd.pivot_table(temp,values = 'suicide_ratio', columns = ['sex'])\n",
    "print(ratio_all)\n",
    "ratio_all.plot.barh(title = 'overall suicide ratio for two genders')"
   ]
  },
  {
   "cell_type": "markdown",
   "metadata": {},
   "source": [
    "### suicide ratio vs. year per gender"
   ]
  },
  {
   "cell_type": "code",
   "execution_count": null,
   "metadata": {},
   "outputs": [],
   "source": [
    "tmp = df_gender.groupby(['year','sex'])[['suicides_no','population']].sum()\n",
    "tmp = tmp.assign(su_ratio_year = tmp['suicides_no']/(tmp['population']/100000))\n",
    "ratio_year = tmp['su_ratio_year'].unstack()\n",
    "ratio_year.plot(title = 'suicide ratio trend with year for two genders').set_ylabel('suicide_ratio')"
   ]
  },
  {
   "cell_type": "markdown",
   "metadata": {},
   "source": [
    "### suicide ratio vs. age per gender"
   ]
  },
  {
   "cell_type": "code",
   "execution_count": null,
   "metadata": {
    "scrolled": true
   },
   "outputs": [],
   "source": [
    "tmp = df_gender.groupby(['age','sex'])[['suicides_no','population']].sum()\n",
    "tmp = tmp.assign(su_ratio_age = tmp['suicides_no']/(tmp['population']/100000))\n",
    "ratio_age = tmp['su_ratio_age'].unstack()\n",
    "ratio_age.plot.bar(title = 'suicide ratio trend with age for two genders').set_ylabel('suicide_ratio')"
   ]
  },
  {
   "cell_type": "code",
   "execution_count": null,
   "metadata": {},
   "outputs": [],
   "source": [
    "tmp = df_gender.groupby(['country','sex'])[['suicides_no','population']].sum().assign(ratio = tmp['suicides_no']/(tmp['population']/100000))\n",
    "# tmp has multiIndex('country','sex'), we cannot select values by a single index in multiIndex, reset multiindex into column\n",
    "tmp_reindex = tmp.reset_index()\n",
    "female_top5 = tmp_reindex[tmp_reindex['sex']=='female'].sort_values(by = ['ratio'], ascending = False)[['country','ratio']].head(5)\n",
    "female_top5.plot.bar(x= 'country', y = 'ratio', color = 'Orange')"
   ]
  },
  {
   "cell_type": "markdown",
   "metadata": {},
   "source": [
    "### top 5 countries with highest suicide ratio per gender"
   ]
  },
  {
   "cell_type": "code",
   "execution_count": null,
   "metadata": {},
   "outputs": [],
   "source": [
    "tmp = df_gender.groupby(['country','sex'])[['suicides_no','population']].sum().assign(ratio = tmp['suicides_no']/(tmp['population']/100000))\n",
    "# tmp has multiIndex('country','sex'), we cannot select values by a single index in multiIndex, reset multiindex into column\n",
    "tmp_reindex = tmp.reset_index()\n",
    "# tmp is untouched\n",
    "top5 = tmp_reindex.sort_values(by = ['ratio'], ascending = False).groupby('sex')[['country','sex','ratio']].head(5)\n",
    "# select the top 5 countries by ratio in two sex groups (in one dataframe)\n",
    "top5_sex = top5.pivot(index='country', columns='sex', values='ratio')\n",
    "top5_sex.plot.barh(title = 'Top 5 countries with highest suicide ratio per sex').set_xlabel('overall suicide ratio')"
   ]
  },
  {
   "cell_type": "markdown",
   "metadata": {},
   "source": [
    "# Data Analysis - Relationship between GDP and Suicide Rate"
   ]
  },
  {
   "cell_type": "code",
   "execution_count": null,
   "metadata": {},
   "outputs": [],
   "source": [
    "sui_country = df4[['country', 'year', 'population','suicides_no','total_gdp']]\n",
    "sui_country = sui_country.groupby([sui_country.country,sui_country.year],as_index = False).sum()\n",
    "sui_country['new_suicide_rate'] = round(sui_country.suicides_no/sui_country.population * 100000,2)\n",
    "#calculate suicide_rate by ourselves "
   ]
  },
  {
   "cell_type": "code",
   "execution_count": null,
   "metadata": {},
   "outputs": [],
   "source": [
    "sui_country.head()"
   ]
  },
  {
   "cell_type": "code",
   "execution_count": null,
   "metadata": {},
   "outputs": [],
   "source": [
    "new_sr_ctr = sui_country.drop(columns = {'year','population','suicides_no','total_gdp'}).groupby(sui_country.country).mean().sort_values( 'new_suicide_rate',ascending =False).reset_index()"
   ]
  },
  {
   "cell_type": "code",
   "execution_count": null,
   "metadata": {},
   "outputs": [],
   "source": [
    "new_sr_ctr.head()"
   ]
  },
  {
   "cell_type": "code",
   "execution_count": null,
   "metadata": {},
   "outputs": [],
   "source": [
    "#suicide rate per country plot\n",
    "plt.figure(figsize=(10,30))\n",
    "plt.title('Suicide Rates - Country', fontsize=14)\n",
    "plt.axvline(x=new_sr_ctr['new_suicide_rate'].mean(),color='gray',ls='--')\n",
    "sns.barplot(data=new_sr_ctr, y='country',x='new_suicide_rate')"
   ]
  },
  {
   "cell_type": "code",
   "execution_count": null,
   "metadata": {},
   "outputs": [],
   "source": [
    "gdp_country = df4[['country', 'year', 'population','total_gdp']]\n",
    "a = gdp_country.groupby(['country', 'year', 'total_gdp'], as_index=False).sum()\n",
    "a['gdp_per'] = a['total_gdp']/a['population'] # calculate gdp_per country regardless of year \n",
    "a = a.drop(columns = ['total_gdp','population','year'])\n",
    "a['suicide_rate'] = sui_country['new_suicide_rate']\n",
    "a = a.groupby(a.country).mean().sort_values('gdp_per',ascending = False)"
   ]
  },
  {
   "cell_type": "code",
   "execution_count": null,
   "metadata": {},
   "outputs": [],
   "source": [
    "fig, ax1 = plt.subplots(1,1,figsize=(14,4), dpi=80, sharey=False)\n",
    "\n",
    "sns.lineplot(data=a, y='suicide_rate', x='gdp_per', ax=ax1, label='country')\n",
    "ax1.grid(False)\n",
    "ax1.legend(bbox_to_anchor=(1, 0.12))"
   ]
  },
  {
   "cell_type": "code",
   "execution_count": null,
   "metadata": {},
   "outputs": [],
   "source": [
    "#overall trend of suicide_rate with gdp\n",
    "fig, ax1 = plt.subplots(1,1,figsize=(10,8), dpi=80, sharey=False)\n",
    "sns.regplot(data = a, x='gdp_per',\n",
    "              y='suicide_rate', ax=ax1, color='C3')"
   ]
  },
  {
   "cell_type": "markdown",
   "metadata": {},
   "source": [
    "## Data Analysis - Relationship between HDI and Suicide Rate"
   ]
  },
  {
   "cell_type": "code",
   "execution_count": null,
   "metadata": {},
   "outputs": [],
   "source": [
    "HDI_country = df3.drop(['age', 'sex', 'suicides/100k pop', 'generation', 'HDI for year', 'gdp_per_capita ($)', 'country-year'], axis = 1)\n",
    "HDI_country = HDI_country.groupby(['country', 'year', 'HDI', 'total_gdp']).sum().reset_index()\n",
    "HDI_country['suicide_rate'] = ((HDI_country.suicides_no / HDI_country.population)*(10**5)).round(3)\n",
    "HDI_country['gdp_per_capita'] = (HDI_country.total_gdp/HDI_country.population).round(2)\n",
    "HDI_country = HDI_country[(HDI_country['country'] == 'Russia')|(HDI_country['country'] == 'Lithuania')|(HDI_country['country'] == 'Sri Lanka')|(HDI_country['country'] == 'Latvia')|(HDI_country['country'] == 'Hungary')]"
   ]
  },
  {
   "cell_type": "code",
   "execution_count": null,
   "metadata": {},
   "outputs": [],
   "source": [
    "HDI_df = df3.drop(['age', 'sex', 'suicides/100k pop', 'generation', 'HDI for year', 'gdp_per_capita ($)', 'country-year'], axis = 1)\n",
    "HDI_df = HDI_df.groupby(['country', 'year', 'HDI', 'total_gdp']).sum().reset_index()\n",
    "HDI_df = HDI_df.groupby(['year']).mean().reset_index()\n",
    "HDI_df['suicides_rate'] = ((HDI_df.suicides_no / HDI_df.population)*(10**5)).round(4)\n",
    "HDI_df['gdp_per_capita'] = (HDI_df.total_gdp/HDI_df.population).round(2)\n",
    "sns.regplot(x = 'HDI', y = 'suicides_rate', data = HDI_df, fit_reg = True, color = 'r')"
   ]
  },
  {
   "cell_type": "code",
   "execution_count": null,
   "metadata": {},
   "outputs": [],
   "source": [
    "sns.lineplot(x = 'year', y = 'HDI', data = HDI_country, hue = 'country')"
   ]
  },
  {
   "cell_type": "code",
   "execution_count": null,
   "metadata": {},
   "outputs": [],
   "source": [
    "sns.lineplot(x = 'year', y = 'suicide_rate', data = HDI_country, hue = 'country')"
   ]
  },
  {
   "cell_type": "markdown",
   "metadata": {},
   "source": [
    "## Web scraper to import developing and developed country information "
   ]
  },
  {
   "cell_type": "code",
   "execution_count": null,
   "metadata": {},
   "outputs": [],
   "source": [
    "#web scraper to import developing and developed country information \n",
    "url = \"http://worldpopulationreview.com/countries/developed-countries/\"\n",
    "\n",
    "# Use requests to load the url\n",
    "page = requests.get(url)\n",
    "\n",
    "# Create a BeautifulSoup object\n",
    "soup = soup(page.content, 'html.parser')\n",
    "\n",
    "# pull all the texts of the 'table table-striped' class from the page\n",
    "table = soup.find(class_ = 'table table-striped')\n",
    "\n",
    "# pull text from all instances of <td> tag within the 'table table-striped' class\n",
    "table2 = table.find_all('td')\n",
    "\n",
    "countryname = []\n",
    "index = 5\n",
    "while index<len(table2):\n",
    "    countryname.append(table2[index].getText())\n",
    "    index = index+4\n",
    "print(countryname)"
   ]
  },
  {
   "cell_type": "code",
   "execution_count": null,
   "metadata": {},
   "outputs": [],
   "source": [
    "d1 = df4[['country', 'year', 'population','suicides_no','total_gdp']]\n",
    "d1= d1.groupby([d1.country,d1.year],as_index = False).sum()\n",
    "d1['new_suicide_rate'] = round(d1.suicides_no/d1.population * 100000,2)"
   ]
  },
  {
   "cell_type": "code",
   "execution_count": null,
   "metadata": {},
   "outputs": [],
   "source": [
    "d2 = df4[['country', 'year', 'population','total_gdp']]\n",
    "d2 = d2.groupby([d2.country,d2.year, d2.total_gdp],as_index = False).sum()\n",
    "d2['gdp_per'] = round(d2['total_gdp']/d2['population'])\n",
    "d2['new_suicide_rate'] = d1.new_suicide_rate\n",
    "d2 = d2.drop(columns = {'population','total_gdp'})"
   ]
  },
  {
   "cell_type": "code",
   "execution_count": null,
   "metadata": {},
   "outputs": [],
   "source": [
    "inde = d2.country.isin(countryname)\n",
    "ind_inverse = [not i for i in inde]\n",
    "d2_develop = d2[inde]\n",
    "d2_developin = d2[ind_inverse]"
   ]
  },
  {
   "cell_type": "code",
   "execution_count": null,
   "metadata": {},
   "outputs": [],
   "source": [
    "#overall trend of suicide rate versus gdp \n",
    "fig, ax1 = plt.subplots(1,1,figsize=(10,8), dpi=80, sharey=False)\n",
    "sns.regplot(data = d2, x='gdp_per',\n",
    "              y='new_suicide_rate', ax=ax1, color='C1')"
   ]
  },
  {
   "cell_type": "code",
   "execution_count": null,
   "metadata": {},
   "outputs": [],
   "source": [
    "#developed coutry's suicide rate vs. gdp per capita \n",
    "d2_develop = d2_develop.groupby('year').mean()[['new_suicide_rate','gdp_per']]\n",
    "d2_develop.head(10)"
   ]
  },
  {
   "cell_type": "code",
   "execution_count": null,
   "metadata": {},
   "outputs": [],
   "source": [
    "#developing coutry's suicide rate vs. gdp per capita \n",
    "d2_developin = d2_developin.groupby('year').mean()[['new_suicide_rate','gdp_per']]\n",
    "d2_developin.head(10)"
   ]
  },
  {
   "cell_type": "code",
   "execution_count": null,
   "metadata": {},
   "outputs": [],
   "source": [
    "#developing country plot \n",
    "fig, ax1 = plt.subplots(1,1,figsize=(10,8), dpi=80, sharey=False)\n",
    "sns.regplot(data = d2_developin, x='gdp_per',\n",
    "              y='new_suicide_rate', ax=ax1, color='C1')"
   ]
  },
  {
   "cell_type": "code",
   "execution_count": null,
   "metadata": {},
   "outputs": [],
   "source": [
    "#developed country plot \n",
    "fig, ax1 = plt.subplots(1,1,figsize=(10,8), dpi=80, sharey=False)\n",
    "sns.regplot(data = d2_develop, x='gdp_per',\n",
    "              y='new_suicide_rate', ax=ax1, color='C8')"
   ]
  },
  {
   "cell_type": "code",
   "execution_count": null,
   "metadata": {
    "scrolled": true
   },
   "outputs": [],
   "source": [
    "# correlation heat map \n",
    "fig, ax = plt.subplots(figsize=(10, 8))\n",
    "hm = sns.heatmap(df4[['year','suicides_no','population','suicide_per_100k','total_gdp','gdp_per_capita','HDI']].corr(), annot = True, ax = ax, cmap = \"PiYG\",fmt = '.2f',\n",
    "                 linewidths = .05)\n",
    "fig.subplots_adjust(top = 0.92)\n",
    "fig.suptitle('Attributes Correlation Heatmap', fontsize = 20)\n",
    "plt.show()"
   ]
  },
  {
   "cell_type": "markdown",
   "metadata": {},
   "source": [
    "# Interactive visualization of the suicides rate"
   ]
  },
  {
   "cell_type": "markdown",
   "metadata": {},
   "source": [
    "Use the following map below to view the suicides per 100k population in countries across the world from 1985 to 2016. You can use the following features in the map:\n",
    "1. Zoom in/out\n",
    "2. Hover function using mouse pointer\n",
    "3. Play/Stop function for the year slider\n",
    "4. Manual selection through year slider"
   ]
  },
  {
   "cell_type": "code",
   "execution_count": null,
   "metadata": {},
   "outputs": [],
   "source": [
    "fig = px.choropleth(df_map, locations=\"country\", locationmode=\"country names\",\n",
    "                    color=\"suicides_rate\",\n",
    "                    hover_name=\"country\",\n",
    "                    animation_frame=\"year\",\n",
    "                    animation_group=\"year\",\n",
    "                    labels={'suicides_rate':'Suicides per 100k population', 'year':'Year', 'country':\"Country\", 'gdp_per_capita':'GDP per capita ($)'},\n",
    "                    color_continuous_scale=px.colors.carto.Sunset, #sequential.RdPu, carto.Sunset\n",
    "                    title=\"Yearly global trend in suicides per 100k\")\n",
    "fig.show()\n",
    "py.offline.plot(fig, filename= 'suicidesrate_interactive.html')"
   ]
  }
 ],
 "metadata": {
  "kernelspec": {
   "display_name": "Python 3",
   "language": "python",
   "name": "python3"
  },
  "language_info": {
   "codemirror_mode": {
    "name": "ipython",
    "version": 3
   },
   "file_extension": ".py",
   "mimetype": "text/x-python",
   "name": "python",
   "nbconvert_exporter": "python",
   "pygments_lexer": "ipython3",
   "version": "3.7.3"
  }
 },
 "nbformat": 4,
 "nbformat_minor": 2
}
